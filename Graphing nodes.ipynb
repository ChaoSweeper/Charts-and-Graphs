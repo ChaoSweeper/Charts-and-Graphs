{
 "cells": [
  {
   "cell_type": "markdown",
   "metadata": {},
   "source": [
    "# Basic example of node graphing"
   ]
  },
  {
   "cell_type": "code",
   "execution_count": 1,
   "metadata": {},
   "outputs": [],
   "source": [
    "from collections import defaultdict "
   ]
  },
  {
   "cell_type": "code",
   "execution_count": 2,
   "metadata": {},
   "outputs": [
    {
     "name": "stdout",
     "output_type": "stream",
     "text": [
      "[('a', 'c'), ('b', 'c'), ('b', 'e'), ('c', 'd'), ('c', 'e'), ('c', 'a'), ('c', 'b'), ('e', 'b'), ('e', 'c'), ('d', 'c')]\n"
     ]
    }
   ],
   "source": [
    "# function for adding edge to graph\n",
    "graph = defaultdict(list)\n",
    "\n",
    "\n",
    "def add_edge(graph, u, v):\n",
    "    graph[u].append(v)\n",
    "\n",
    "\n",
    "# definition of function\n",
    "def generate_edges(graph):\n",
    "    edges = []\n",
    "\n",
    "    # for each node in graph\n",
    "    for node in graph:\n",
    "\n",
    "        # for each neighbour node of a single node\n",
    "        for neighbour in graph[node]:\n",
    "\n",
    "            # if edge exists then append\n",
    "            edges.append((node, neighbour))\n",
    "    return edges\n",
    "\n",
    "\n",
    "# declaration of graph as dictionary\n",
    "add_edge(graph, 'a', 'c')\n",
    "add_edge(graph, 'b', 'c')\n",
    "add_edge(graph, 'b', 'e')\n",
    "add_edge(graph, 'c', 'd')\n",
    "add_edge(graph, 'c', 'e')\n",
    "add_edge(graph, 'c', 'a')\n",
    "add_edge(graph, 'c', 'b')\n",
    "add_edge(graph, 'e', 'b')\n",
    "add_edge(graph, 'd', 'c')\n",
    "add_edge(graph, 'e', 'c')\n",
    "\n",
    "# Driver Function call\n",
    "# to print generated graph\n",
    "print(generate_edges(graph))"
   ]
  },
  {
   "cell_type": "code",
   "execution_count": 3,
   "metadata": {},
   "outputs": [
    {
     "name": "stdout",
     "output_type": "stream",
     "text": [
      "['d', 'a', 'c']\n"
     ]
    }
   ],
   "source": [
    "# Python program to generate the first\n",
    "# path of the graph from the nodes provided\n",
    "graph = {'a': ['c'], 'b': ['d'], 'c': ['e'], 'd': ['a', 'd'], 'e': ['b', 'c']}\n",
    "\n",
    "\n",
    "# function to find path\n",
    "def find_path(graph, start, end, path=[]):\n",
    "    path = path + [start]\n",
    "    if start == end:\n",
    "        return path\n",
    "    for node in graph[start]:\n",
    "        if node not in path:\n",
    "            newpath = find_path(graph, node, end, path)\n",
    "            if newpath:\n",
    "                return newpath\n",
    "            return None\n",
    "\n",
    "\n",
    "# Driver function call to print the path\n",
    "print(find_path(graph, 'd', 'c'))"
   ]
  },
  {
   "cell_type": "code",
   "execution_count": 4,
   "metadata": {},
   "outputs": [
    {
     "name": "stdout",
     "output_type": "stream",
     "text": [
      "[['d', 'a', 'c'], ['d', 'a', 'c']]\n"
     ]
    }
   ],
   "source": [
    "# Python program to generate the all possible\n",
    "# path of the graph from the nodes provided\n",
    "graph = {'a': ['c'], 'b': ['d'], 'c': ['e'], 'd': ['a', 'd'], 'e': ['b', 'c']}\n",
    "\n",
    "\n",
    "# function to generate all possible paths\n",
    "def find_all_paths(graph, start, end, path=[]):\n",
    "    path = path + [start]\n",
    "    if start == end:\n",
    "        return [path]\n",
    "    paths = []\n",
    "    for node in graph[start]:\n",
    "        if node not in path:\n",
    "            newpaths = find_all_paths(graph, node, end, path)\n",
    "        for newpath in newpaths:\n",
    "            paths.append(newpath)\n",
    "    return paths\n",
    "\n",
    "\n",
    "# Driver function call to print all\n",
    "# generated paths\n",
    "print(find_all_paths(graph, 'd', 'c'))"
   ]
  },
  {
   "cell_type": "code",
   "execution_count": 5,
   "metadata": {},
   "outputs": [
    {
     "name": "stdout",
     "output_type": "stream",
     "text": [
      "['d', 'a', 'c']\n"
     ]
    }
   ],
   "source": [
    "# Python program to generate shortest path\n",
    "\n",
    "graph = {'a': ['c'], 'b': ['d'], 'c': ['e'], 'd': ['a', 'd'], 'e': ['b', 'c']}\n",
    "\n",
    "\n",
    "# function to find the shortest path\n",
    "def find_shortest_path(graph, start, end, path=[]):\n",
    "    path = path + [start]\n",
    "    if start == end:\n",
    "        return path\n",
    "    shortest = None\n",
    "    for node in graph[start]:\n",
    "        if node not in path:\n",
    "            newpath = find_shortest_path(graph, node, end, path)\n",
    "            if newpath:\n",
    "                if not shortest or len(newpath) < len(shortest):\n",
    "                    shortest = newpath\n",
    "    return shortest\n",
    "\n",
    "\n",
    "# Driver function call to print\n",
    "# the shortest path\n",
    "print(find_shortest_path(graph, 'd', 'c'))"
   ]
  },
  {
   "cell_type": "code",
   "execution_count": 6,
   "metadata": {},
   "outputs": [
    {
     "name": "stdout",
     "output_type": "stream",
     "text": [
      "Yes\n"
     ]
    }
   ],
   "source": [
    "# Python implementation of the approach\n",
    "\n",
    "\n",
    "# Function that returns true if\n",
    "# a simple graph exists\n",
    "def graphExists(a):\n",
    "\n",
    "    # Keep performing the operations until one\n",
    "    # of the stopping condition is met\n",
    "    while True:\n",
    "\n",
    "        # Sort the list in non-decreasing order\n",
    "        a = sorted(a, reverse=True)\n",
    "\n",
    "        # Check if all the elements are equal to 0\n",
    "        if a[0] == 0 and a[len(a) - 1] == 0:\n",
    "            return True\n",
    "\n",
    "        # Store the first element in a variable\n",
    "        # and delete it from the list\n",
    "        v = a[0]\n",
    "        a = a[1:]\n",
    "\n",
    "        # Check if enough elements\n",
    "        # are present in the list\n",
    "        if v > len(a):\n",
    "            return False\n",
    "\n",
    "        # Subtract first element from next v elements\n",
    "        for i in range(v):\n",
    "            a[i] -= 1\n",
    "\n",
    "            # Check if negative element is\n",
    "            # encountered after subtraction\n",
    "            if a[i] < 0:\n",
    "                return False\n",
    "\n",
    "\n",
    "# Driver code\n",
    "a = [3, 3, 3, 3]\n",
    "if (graphExists(a)):\n",
    "    print(\"Yes\")\n",
    "else:\n",
    "    print(\"No\")"
   ]
  },
  {
   "cell_type": "code",
   "execution_count": null,
   "metadata": {},
   "outputs": [],
   "source": []
  }
 ],
 "metadata": {
  "kernelspec": {
   "display_name": "Python 3",
   "language": "python",
   "name": "python3"
  },
  "language_info": {
   "codemirror_mode": {
    "name": "ipython",
    "version": 3
   },
   "file_extension": ".py",
   "mimetype": "text/x-python",
   "name": "python",
   "nbconvert_exporter": "python",
   "pygments_lexer": "ipython3",
   "version": "3.8.5"
  },
  "toc": {
   "base_numbering": 1,
   "nav_menu": {},
   "number_sections": true,
   "sideBar": true,
   "skip_h1_title": false,
   "title_cell": "Table of Contents",
   "title_sidebar": "Contents",
   "toc_cell": false,
   "toc_position": {},
   "toc_section_display": true,
   "toc_window_display": false
  }
 },
 "nbformat": 4,
 "nbformat_minor": 4
}
